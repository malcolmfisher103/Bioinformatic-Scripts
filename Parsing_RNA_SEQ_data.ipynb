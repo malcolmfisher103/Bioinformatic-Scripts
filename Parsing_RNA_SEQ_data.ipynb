{
  "nbformat": 4,
  "nbformat_minor": 0,
  "metadata": {
    "colab": {
      "provenance": [],
      "authorship_tag": "ABX9TyNqw6J5RRenRJfd0wgEdHhI",
      "include_colab_link": true
    },
    "kernelspec": {
      "name": "python3",
      "display_name": "Python 3"
    },
    "language_info": {
      "name": "python"
    }
  },
  "cells": [
    {
      "cell_type": "markdown",
      "metadata": {
        "id": "view-in-github",
        "colab_type": "text"
      },
      "source": [
        "<a href=\"https://colab.research.google.com/github/malcolmfisher103/Bioinformatic-Scripts/blob/main/Parsing_RNA_SEQ_data.ipynb\" target=\"_parent\"><img src=\"https://colab.research.google.com/assets/colab-badge.svg\" alt=\"Open In Colab\"/></a>"
      ]
    },
    {
      "cell_type": "markdown",
      "source": [
        "#Xenbase GEO RNA-Seq matrix mapper\n",
        "\n",
        "This Python script pulls GEO data from the [Xenbase](https://www.xenbase.org/xenbase/) model organism database and maps the existing row and column names into more human readable formats. The script also averages the TPM values across replicates for the same sample/conditions.\n",
        "\n",
        "The original GEO/SRA data has been processed through Xenbase's [RNA-Seq pipeline](https://gitlab.com/Xenbase/bioinformatics/RNAseq-Pipeline/-/tree/main?ref_type=heads). [Forteide et al. (2020)](https://www.ncbi.nlm.nih.gov/pmc/articles/PMC7145613/) describes the general process but the pipeline has since been updated.\n",
        "\n",
        "This Script takes a GSE ID and a Xenopus Genome version Build (currently only v10 builds for *X. tropicalis* and *X. laevis*) and uses them to create a TPM matrix with gene symbols rather than gene model IDs and sample names rather than SRR IDs. This will not map every gene model as some gene models do not yet have Xenbase XB-GENE-IDs associated with them. Some GSE/Build combinations wil not work, you can check on the Xenbase [GEO download site](https://bigfrog.xenbase.org/pub/xenbase/genomics/GEO/) to see which builds are available for a specifc GSE."
      ],
      "metadata": {
        "id": "iBSh3qZs8auq"
      }
    },
    {
      "cell_type": "code",
      "source": [
        "# @title Set GSE\n",
        "GSE_ID = \"GSE41338\" # @param {type:\"string\"}\n",
        "Genome_build = \"XENTR_10.0\" # @param [\"XENLA_10.1\", \"XENTR_10.0\"]"
      ],
      "metadata": {
        "id": "Hceudj84aPOT"
      },
      "execution_count": null,
      "outputs": []
    },
    {
      "cell_type": "code",
      "execution_count": null,
      "metadata": {
        "id": "Z02AmrrWqKSF"
      },
      "outputs": [],
      "source": [
        "import argparse\n",
        "import pandas as pd\n",
        "import seaborn as sns\n",
        "import matplotlib.pyplot as plt\n",
        "import numpy as np  # Add this line\n",
        "from matplotlib.ticker import LogLocator\n",
        "from scipy.interpolate import interp1d"
      ]
    },
    {
      "cell_type": "code",
      "source": [
        "def load_tpm_matrix():\n",
        "    return pd.read_csv(f'https://bigfrog.xenbase.org/xenbase/genomics/GEO/{GSE_ID}/{Genome_build}/RNA-Seq/ExpressionFiles/Genes_TPM_Matrix.txt', sep='\\t', index_col=0)\n",
        "\n",
        "def load_gene_info():\n",
        "    return pd.read_csv('https://xenbase-bio1.ucalgary.ca/cgi-bin/reports/models_gene_info.cgi', sep='\\t', index_col=0)\n",
        "\n",
        "def load_gsm_sample_mapping():\n",
        "    return pd.read_csv(f'https://bigfrog.xenbase.org/xenbase/genomics/GEO/{GSE_ID}/{Genome_build}/RNA-Seq/gsm_to_track.txt', sep='\\t')\n",
        "\n",
        "def load_gsm_srr_mapping():\n",
        "    return pd.read_csv('https://download.xenbase.org/xenbase/GenePageReports/geo_srr_metadata_chd.txt', sep='\\t')\n",
        "\n",
        "def load_gse_species_mapping():\n",
        "    return pd.read_csv('https://download.xenbase.org/xenbase/GenePageReports/geo_metadat_chd.txt', sep='\\t')\n",
        "\n",
        "def create_gsm_to_srr_mapping(gsm_srr_mapping):\n",
        "    return gsm_srr_mapping[['SRR', 'GSM']]"
      ],
      "metadata": {
        "id": "mJQZoLF5jIb9"
      },
      "execution_count": null,
      "outputs": []
    },
    {
      "cell_type": "code",
      "source": [
        "def substitute_gene_symbols(tpm_matrix, gene_info):\n",
        "\n",
        "# Drop rows with null values in column 1 and column 2 in file 2\n",
        "  gene_info = gene_info.dropna(subset=['GENE_SYMBOL', 'MODEL_NAME'])\n",
        "\n",
        "# Drop duplicates in file 2 based on column 2\n",
        "  gene_info = gene_info.drop_duplicates(subset=['MODEL_NAME'])\n",
        "\n",
        "# Create a mapping dictionary from column 2 to column 1 in file 2\n",
        "  mapping = dict(zip(gene_info['MODEL_NAME'], gene_info['GENE_SYMBOL']))\n",
        "\n",
        "# Replace values in column 1 of file 1 with corresponding values from file 2\n",
        "  tpm_matrix['Gene'] = tpm_matrix['Gene'].map(mapping).fillna(tpm_matrix['Gene'])\n",
        "\n",
        "# Save the modified DataFrame back to file1.csv or use it as needed\n",
        "  return tpm_matrix"
      ],
      "metadata": {
        "id": "1KrEBM-6wPhC"
      },
      "execution_count": null,
      "outputs": []
    },
    {
      "cell_type": "code",
      "source": [
        "def process_data(tpm_matrix, gene_info, gsm_sample_mapping, gsm_srr_mapping):\n",
        "    # Substituting gene symbols\n",
        "    tpm_matrix = substitute_gene_symbols(tpm_matrix, gene_info) #This works\n",
        "\n",
        "    # Mapping GSMs to SRRs\n",
        "    gsm_to_srr = create_gsm_to_srr_mapping(gsm_srr_mapping)\n",
        "\n",
        "    # Select columns 2 and 6 to create a DataFrame with Track Name and GSMs\n",
        "    gsm_mapping = gsm_sample_mapping[['Track Name', 'GSMs']]\n",
        "\n",
        "    # Convert GSMs column to list if it contains comma-separated values\n",
        "    gsm_mapping.loc[:, 'GSMs'] = gsm_mapping['GSMs'].str.split(',')\n",
        "\n",
        "    # Explode the list of GSMs to create multiple rows for each track name\n",
        "    gsm_mapping = gsm_mapping.explode('GSMs')\n",
        "    # Merge gsm_mapping with gsm_srr_mapping on the 'GSM' column to get corresponding SRRs\n",
        "    track_srr_mapping = pd.merge(left=gsm_mapping, right=gsm_srr_mapping, left_on='GSMs', right_on='GSM', validate=\"1:m\")\n",
        "    # Group by 'Track Name' and aggregate the corresponding SRRs into lists\n",
        "    track_srr_mapping = track_srr_mapping.groupby('Track Name')['SRR'].apply(list).reset_index()\n",
        "    track_srr_mapping_expanded = track_srr_mapping.explode('SRR')\n",
        "    #print(track_srr_mapping_expanded.head(10))\n",
        "\n",
        "    srr_columns = tpm_matrix.columns.intersection(track_srr_mapping_expanded['SRR'])\n",
        "    #print(srr_columns)\n",
        "    srr_to_track = dict(zip(track_srr_mapping_expanded['SRR'], track_srr_mapping_expanded['Track Name']))\n",
        "\n",
        "    # Grouping TPM matrix by SRRs\n",
        "    tpm_matrix.rename(columns={col: srr_to_track.get(col, col) for col in srr_columns}, inplace=True)\n",
        "    #print(tpm_matrix.head(10))\n",
        "\n",
        "    # Melt the DataFrame to have a single column for the gene and the rest for values\n",
        "    tpm_matrix = pd.melt(tpm_matrix, id_vars=['Gene'], var_name='Column')\n",
        "\n",
        "    # Extract the unique column names excluding the first column (Gene)\n",
        "    columns_to_merge = tpm_matrix['Column'].unique()[1:]\n",
        "\n",
        "    # Group by track names and take the mean\n",
        "    tpm_matrix_grouped = tpm_matrix.groupby(['Gene', 'Column']).mean().unstack()\n",
        "\n",
        "    # Display the first 10 rows and first 5 columns\n",
        "    # print(tpm_matrix_grouped.iloc[:10, :5])\n",
        "\n",
        "    # Remove the hierarchical index and reset index\n",
        "    tpm_matrix_grouped.columns = tpm_matrix_grouped.columns.droplevel()\n",
        "    tpm_matrix_grouped.reset_index(inplace=True)\n",
        "\n",
        "    #print(tpm_matrix_grouped.head(10))\n",
        "\n",
        "    return tpm_matrix_grouped"
      ],
      "metadata": {
        "id": "xEL5TjcHwVtL"
      },
      "execution_count": null,
      "outputs": []
    },
    {
      "cell_type": "code",
      "source": [
        "def main():\n",
        "\n",
        "    # Load data\n",
        "    tpm_matrix = load_tpm_matrix()\n",
        "    tpm_matrix = tpm_matrix.reset_index()\n",
        "    gsm_srr_mapping = load_gsm_srr_mapping()\n",
        "    gene_info = load_gene_info()\n",
        "    gene_info = gene_info.reset_index()\n",
        "    gsm_sample_mapping = load_gsm_sample_mapping()\n",
        "\n",
        "    # Process data\n",
        "    new_tpm_matrix = process_data(tpm_matrix, gene_info, gsm_sample_mapping, gsm_srr_mapping)\n",
        "\n",
        "    # Output new_tpm_matrix to file\n",
        "    new_tpm_matrix.to_csv(f'{GSE_ID}_TPM.tsv', sep='\\t')\n",
        "\n",
        "if __name__ == \"__main__\":\n",
        "    main()"
      ],
      "metadata": {
        "id": "9cp1TNvulrKl"
      },
      "execution_count": null,
      "outputs": []
    }
  ]
}
