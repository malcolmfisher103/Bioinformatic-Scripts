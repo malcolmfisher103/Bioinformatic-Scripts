{
  "nbformat": 4,
  "nbformat_minor": 0,
  "metadata": {
    "colab": {
      "provenance": [],
      "authorship_tag": "ABX9TyPDm+qB/jRt73AhAE6c2Vq7",
      "include_colab_link": true
    },
    "kernelspec": {
      "name": "python3",
      "display_name": "Python 3"
    },
    "language_info": {
      "name": "python"
    }
  },
  "cells": [
    {
      "cell_type": "markdown",
      "metadata": {
        "id": "view-in-github",
        "colab_type": "text"
      },
      "source": [
        "<a href=\"https://colab.research.google.com/github/malcolmfisher103/Bioinformatic-Scripts/blob/main/Xenopus_GO_enrichment.ipynb\" target=\"_parent\"><img src=\"https://colab.research.google.com/assets/colab-badge.svg\" alt=\"Open In Colab\"/></a>"
      ]
    },
    {
      "cell_type": "code",
      "execution_count": null,
      "metadata": {
        "id": "Wwl55dI9V3YD"
      },
      "outputs": [],
      "source": [
        "!pip install goenrich\n",
        "!apt-get install graphviz\n",
        "!apt-get install graphviz-dev\n",
        "!pip install pygraphviz\n",
        "!mkdir db\n",
        "# Ontology\n",
        "!wget http://purl.obolibrary.org/obo/go/go-basic.obo -O db/go-basic.obo\n",
        "# UniprotACC\n",
        "#!wget http://geneontology.org/gene-associations/goa_human.gaf.gz -O db/gene_association.goa_human.gaf.gz\n",
        "# Yeast SGD\n",
        "#!wget http://downloads.yeastgenome.org/curation/literature/gene_association.sgd.gz -O db/gene_association.sgd.gz\n",
        "# Entrez GeneID\n",
        "#!wget ftp://ftp.ncbi.nlm.nih.gov/gene/DATA/gene2go.gz -O db/gene2go.gz\n",
        "# Xenopus Xenbase\n",
        "!wget https://download.xenbase.org/xenbase/GenePageReports/xenbase.gaf.gz -O db/xenbase.gaf.gz\n",
        "#!cat db/xenbase.gaf.gz | gunzip|head -n45"
      ]
    },
    {
      "cell_type": "code",
      "source": [
        "# @title Default title text\n",
        "gene_set = ['mix1','LOC121398783','mix1','bix1.3','has2','wnt8a','tbxt','kcnk6','LOC121395429','foxa4','eomes','wnt8a','LOC121399130','tbxt','bix1.2','vegt','hes7.2','bix1.1','mespb'] # @param {type:\"raw\"}\n",
        "print(gene_set)"
      ],
      "metadata": {
        "colab": {
          "base_uri": "https://localhost:8080/"
        },
        "id": "UKCCmAyZL3vK",
        "outputId": "98f13016-1e5b-4848-bc99-61cdd92e14b1"
      },
      "execution_count": 23,
      "outputs": [
        {
          "output_type": "stream",
          "name": "stdout",
          "text": [
            "['mix1', 'LOC121398783', 'mix1', 'bix1.3', 'has2', 'wnt8a', 'tbxt', 'kcnk6', 'LOC121395429', 'foxa4', 'eomes', 'wnt8a', 'LOC121399130', 'tbxt', 'bix1.2', 'vegt', 'hes7.2', 'bix1.1', 'mespb']\n"
          ]
        }
      ]
    },
    {
      "cell_type": "code",
      "source": [
        "import gzip\n",
        "import pandas as pd\n",
        "import goenrich\n",
        "\n",
        "# Build the ontology\n",
        "O = goenrich.obo.ontology('db/go-basic.obo')\n",
        "\n",
        "# Specify the path to your Xenbase GAF file\n",
        "xenbase_gaf_path = 'db/xenbase.gaf.gz'\n",
        "#xenbase_gaf_path = 'db/gene_association.goa_human.gaf.gz'\n",
        "\n",
        "# Read the Xenbase GAF file\n",
        "def read_xenbase_gaf(file_path):\n",
        "    with gzip.open(file_path, 'rt', encoding='utf-8') as f:\n",
        "        for line in f:\n",
        "            #if not line.startswith('!'):\n",
        "             #   yield line.strip().split('\\t')\n",
        "            if not line.startswith('!'):\n",
        "                fields = line.strip().split('\\t')\n",
        "                taxon_field = fields[12]  # Assuming taxon field is at index 11 (0-based index)\n",
        "                taxon_ids = [taxon_id.split(':')[-1] for taxon_id in taxon_field.split('|')]\n",
        "                filtered_taxon_ids = [taxon_id for taxon_id in taxon_ids if taxon_id in ['8355', '8364','9606']]\n",
        "                if filtered_taxon_ids:\n",
        "                    fields[12] = '|'.join(filtered_taxon_ids)\n",
        "                    yield '\\t'.join(fields)\n",
        "\n",
        "# Extract taxon information from the file\n",
        "def extract_taxon(file_path, taxon_column=12):  # Assuming taxon ID is in column 13 by default\n",
        "    taxon_ids = set()\n",
        "    with gzip.open(file_path, 'rt', encoding='utf-8') as f:\n",
        "        for line in f:\n",
        "            if not line.startswith('!'):\n",
        "                taxon_id = line.strip().split('\\t')[taxon_column].split('taxon:')[1].rstrip('|')\n",
        "                taxon_ids.add(taxon_id)\n",
        "    return taxon_ids\n",
        "\n",
        "# Determine the taxon IDs from the file\n",
        "desired_taxon_ids = '8364' # '8355' for laevis '8364' for trop extract_taxon(xenbase_gaf_path)\n",
        "#desired_taxon_ids = '9606' #This should be used if the human gaf is being used.\n",
        "\n",
        "# Read the Xenbase GAF file\n",
        "annot = list(read_xenbase_gaf(xenbase_gaf_path))\n",
        "annot = [line.strip().split('\\t') for line in annot]\n",
        "\n",
        "# Filter the rows based on the desired taxon IDs\n",
        "annot_filtered = [entry for entry in annot if entry[12] in desired_taxon_ids]  # Assuming taxon ID is in column 12\n",
        "print(\"Taxon IDs in entries:\", set(entry[12] for entry in annot))  # Debug print statement\n",
        "print(\"Taxon IDs extracted from file:\", desired_taxon_ids)  # Debug print statement\n",
        "print(\"Number of entries before filtering:\", len(annot))  # Debug print statement\n",
        "print(\"Number of entries after filtering:\", len(annot_filtered))  # Debug print s\n",
        "\n",
        "# Convert the filtered annotations to a DataFrame\n",
        "annot_df = pd.DataFrame(annot_filtered, columns=['DB', 'DB_Object_ID', 'DB_Object_Symbol', 'Qualifier', 'GO_ID', 'DB_Reference', 'Evidence_Code', 'With', 'Aspect', 'DB_Object_Name', 'DB_Object_Synonym', 'DB_Object_Type', 'Taxon', 'Date', 'Assigned_By', 'Annotation_Extension'])\n",
        "\n",
        "# Use values = {k: set(v) for k, v in annot.groupby('go_id')['db_object_symbol']}\n",
        "values = {k: set(v) for k, v in annot_df.groupby('GO_ID')['DB_Object_Symbol']}\n",
        "\n",
        "# Propagate the background through the ontology\n",
        "background_attribute = 'annot'\n",
        "goenrich.enrich.propagate(O, values, background_attribute)\n",
        "\n",
        "# Extract some list of entries as example query\n",
        "# query = annot_df['DB_Object_Symbol'].unique()[:100]\n",
        "query = gene_set\n",
        "#query = [item.upper() for item in query] #this should be used if the human gaf set is the background.\n",
        "# For additional export to Graphviz, specify the gvfile argument\n",
        "# The show argument keeps the graph reasonably small\n",
        "df = goenrich.enrich.analyze(O, query, background_attribute, gvfile='test.dot')\n",
        "\n",
        "# Generate HTML\n",
        "df.dropna().head().to_html('example2.html')\n",
        "\n",
        "# Call Graphviz\n",
        "import subprocess\n",
        "subprocess.check_call(['dot', '-Tpng', 'test.dot', '-o', 'test.png'])\n"
      ],
      "metadata": {
        "colab": {
          "base_uri": "https://localhost:8080/"
        },
        "id": "1Z7mti1Rk69d",
        "outputId": "b337d414-bc79-4329-dff2-9748af575174"
      },
      "execution_count": 25,
      "outputs": [
        {
          "output_type": "stream",
          "name": "stdout",
          "text": [
            "Taxon IDs in entries: {'8355', '8364'}\n",
            "Taxon IDs extracted from file: 8364\n",
            "Number of entries before filtering: 346733\n",
            "Number of entries after filtering: 159607\n"
          ]
        },
        {
          "output_type": "execute_result",
          "data": {
            "text/plain": [
              "0"
            ]
          },
          "metadata": {},
          "execution_count": 25
        }
      ]
    }
  ]
}